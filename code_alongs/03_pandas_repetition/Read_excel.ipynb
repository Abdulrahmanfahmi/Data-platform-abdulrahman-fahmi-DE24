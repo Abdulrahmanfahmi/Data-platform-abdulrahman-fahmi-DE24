{
 "cells": [
  {
   "cell_type": "markdown",
   "metadata": {},
   "source": [
    "# Code alongs - read from excel"
   ]
  },
  {
   "cell_type": "code",
   "execution_count": 1,
   "metadata": {},
   "outputs": [
    {
     "data": {
      "text/html": [
       "<div>\n",
       "<style scoped>\n",
       "    .dataframe tbody tr th:only-of-type {\n",
       "        vertical-align: middle;\n",
       "    }\n",
       "\n",
       "    .dataframe tbody tr th {\n",
       "        vertical-align: top;\n",
       "    }\n",
       "\n",
       "    .dataframe thead th {\n",
       "        text-align: right;\n",
       "    }\n",
       "</style>\n",
       "<table border=\"1\" class=\"dataframe\">\n",
       "  <thead>\n",
       "    <tr style=\"text-align: right;\">\n",
       "      <th></th>\n",
       "      <th>FoodCategory</th>\n",
       "      <th>FoodItem</th>\n",
       "      <th>per100grams</th>\n",
       "      <th>Cals_per100grams</th>\n",
       "      <th>KJ_per100grams</th>\n",
       "    </tr>\n",
       "  </thead>\n",
       "  <tbody>\n",
       "    <tr>\n",
       "      <th>0</th>\n",
       "      <td>CannedFruit</td>\n",
       "      <td>Applesauce</td>\n",
       "      <td>100g</td>\n",
       "      <td>62 cal</td>\n",
       "      <td>260 kJ</td>\n",
       "    </tr>\n",
       "    <tr>\n",
       "      <th>1</th>\n",
       "      <td>CannedFruit</td>\n",
       "      <td>Canned Apricots</td>\n",
       "      <td>100g</td>\n",
       "      <td>48 cal</td>\n",
       "      <td>202 kJ</td>\n",
       "    </tr>\n",
       "    <tr>\n",
       "      <th>2</th>\n",
       "      <td>CannedFruit</td>\n",
       "      <td>Canned Blackberries</td>\n",
       "      <td>100g</td>\n",
       "      <td>92 cal</td>\n",
       "      <td>386 kJ</td>\n",
       "    </tr>\n",
       "    <tr>\n",
       "      <th>3</th>\n",
       "      <td>CannedFruit</td>\n",
       "      <td>Canned Blueberries</td>\n",
       "      <td>100g</td>\n",
       "      <td>88 cal</td>\n",
       "      <td>370 kJ</td>\n",
       "    </tr>\n",
       "    <tr>\n",
       "      <th>4</th>\n",
       "      <td>CannedFruit</td>\n",
       "      <td>Canned Cherries</td>\n",
       "      <td>100g</td>\n",
       "      <td>54 cal</td>\n",
       "      <td>227 kJ</td>\n",
       "    </tr>\n",
       "  </tbody>\n",
       "</table>\n",
       "</div>"
      ],
      "text/plain": [
       "  FoodCategory             FoodItem per100grams Cals_per100grams  \\\n",
       "0  CannedFruit           Applesauce        100g           62 cal   \n",
       "1  CannedFruit      Canned Apricots        100g           48 cal   \n",
       "2  CannedFruit  Canned Blackberries        100g           92 cal   \n",
       "3  CannedFruit   Canned Blueberries        100g           88 cal   \n",
       "4  CannedFruit      Canned Cherries        100g           54 cal   \n",
       "\n",
       "  KJ_per100grams  \n",
       "0         260 kJ  \n",
       "1         202 kJ  \n",
       "2         386 kJ  \n",
       "3         370 kJ  \n",
       "4         227 kJ  "
      ]
     },
     "execution_count": 1,
     "metadata": {},
     "output_type": "execute_result"
    }
   ],
   "source": [
    "import pandas as pd\n",
    "\n",
    "df = pd.read_csv(\"data/calories.csv\")\n",
    "df.head()"
   ]
  },
  {
   "cell_type": "code",
   "execution_count": 2,
   "metadata": {},
   "outputs": [
    {
     "data": {
      "text/html": [
       "<div>\n",
       "<style scoped>\n",
       "    .dataframe tbody tr th:only-of-type {\n",
       "        vertical-align: middle;\n",
       "    }\n",
       "\n",
       "    .dataframe tbody tr th {\n",
       "        vertical-align: top;\n",
       "    }\n",
       "\n",
       "    .dataframe thead th {\n",
       "        text-align: right;\n",
       "    }\n",
       "</style>\n",
       "<table border=\"1\" class=\"dataframe\">\n",
       "  <thead>\n",
       "    <tr style=\"text-align: right;\">\n",
       "      <th></th>\n",
       "      <th>FoodCategory</th>\n",
       "      <th>FoodItem</th>\n",
       "      <th>per100grams</th>\n",
       "      <th>Cals_per100grams</th>\n",
       "      <th>KJ_per100grams</th>\n",
       "    </tr>\n",
       "  </thead>\n",
       "  <tbody>\n",
       "    <tr>\n",
       "      <th>0</th>\n",
       "      <td>CannedFruit</td>\n",
       "      <td>Applesauce</td>\n",
       "      <td>100g</td>\n",
       "      <td>62 cal</td>\n",
       "      <td>260 kJ</td>\n",
       "    </tr>\n",
       "    <tr>\n",
       "      <th>1</th>\n",
       "      <td>CannedFruit</td>\n",
       "      <td>Canned Apricots</td>\n",
       "      <td>100g</td>\n",
       "      <td>48 cal</td>\n",
       "      <td>202 kJ</td>\n",
       "    </tr>\n",
       "    <tr>\n",
       "      <th>2</th>\n",
       "      <td>CannedFruit</td>\n",
       "      <td>Canned Blackberries</td>\n",
       "      <td>100g</td>\n",
       "      <td>92 cal</td>\n",
       "      <td>386 kJ</td>\n",
       "    </tr>\n",
       "  </tbody>\n",
       "</table>\n",
       "</div>"
      ],
      "text/plain": [
       "  FoodCategory             FoodItem per100grams Cals_per100grams  \\\n",
       "0  CannedFruit           Applesauce        100g           62 cal   \n",
       "1  CannedFruit      Canned Apricots        100g           48 cal   \n",
       "2  CannedFruit  Canned Blackberries        100g           92 cal   \n",
       "\n",
       "  KJ_per100grams  \n",
       "0         260 kJ  \n",
       "1         202 kJ  \n",
       "2         386 kJ  "
      ]
     },
     "execution_count": 2,
     "metadata": {},
     "output_type": "execute_result"
    }
   ],
   "source": [
    "df.head(3)"
   ]
  },
  {
   "cell_type": "code",
   "execution_count": 3,
   "metadata": {},
   "outputs": [
    {
     "data": {
      "text/html": [
       "<div>\n",
       "<style scoped>\n",
       "    .dataframe tbody tr th:only-of-type {\n",
       "        vertical-align: middle;\n",
       "    }\n",
       "\n",
       "    .dataframe tbody tr th {\n",
       "        vertical-align: top;\n",
       "    }\n",
       "\n",
       "    .dataframe thead th {\n",
       "        text-align: right;\n",
       "    }\n",
       "</style>\n",
       "<table border=\"1\" class=\"dataframe\">\n",
       "  <thead>\n",
       "    <tr style=\"text-align: right;\">\n",
       "      <th></th>\n",
       "      <th>FoodCategory</th>\n",
       "      <th>FoodItem</th>\n",
       "      <th>per100grams</th>\n",
       "      <th>Cals_per100grams</th>\n",
       "      <th>KJ_per100grams</th>\n",
       "    </tr>\n",
       "  </thead>\n",
       "  <tbody>\n",
       "    <tr>\n",
       "      <th>2220</th>\n",
       "      <td>Spreads</td>\n",
       "      <td>Sunflower Butter</td>\n",
       "      <td>100g</td>\n",
       "      <td>617 cal</td>\n",
       "      <td>2591 kJ</td>\n",
       "    </tr>\n",
       "    <tr>\n",
       "      <th>2221</th>\n",
       "      <td>Spreads</td>\n",
       "      <td>Tapenade</td>\n",
       "      <td>100g</td>\n",
       "      <td>233 cal</td>\n",
       "      <td>979 kJ</td>\n",
       "    </tr>\n",
       "    <tr>\n",
       "      <th>2222</th>\n",
       "      <td>Spreads</td>\n",
       "      <td>Unsalted Butter</td>\n",
       "      <td>100g</td>\n",
       "      <td>717 cal</td>\n",
       "      <td>3011 kJ</td>\n",
       "    </tr>\n",
       "    <tr>\n",
       "      <th>2223</th>\n",
       "      <td>Spreads</td>\n",
       "      <td>Vegemite</td>\n",
       "      <td>100g</td>\n",
       "      <td>180 cal</td>\n",
       "      <td>756 kJ</td>\n",
       "    </tr>\n",
       "    <tr>\n",
       "      <th>2224</th>\n",
       "      <td>Spreads</td>\n",
       "      <td>Wild Honey</td>\n",
       "      <td>100g</td>\n",
       "      <td>286 cal</td>\n",
       "      <td>1201 kJ</td>\n",
       "    </tr>\n",
       "  </tbody>\n",
       "</table>\n",
       "</div>"
      ],
      "text/plain": [
       "     FoodCategory          FoodItem per100grams Cals_per100grams  \\\n",
       "2220      Spreads  Sunflower Butter        100g          617 cal   \n",
       "2221      Spreads          Tapenade        100g          233 cal   \n",
       "2222      Spreads   Unsalted Butter        100g          717 cal   \n",
       "2223      Spreads          Vegemite        100g          180 cal   \n",
       "2224      Spreads        Wild Honey        100g          286 cal   \n",
       "\n",
       "     KJ_per100grams  \n",
       "2220        2591 kJ  \n",
       "2221         979 kJ  \n",
       "2222        3011 kJ  \n",
       "2223         756 kJ  \n",
       "2224        1201 kJ  "
      ]
     },
     "execution_count": 3,
     "metadata": {},
     "output_type": "execute_result"
    }
   ],
   "source": [
    "df.tail()"
   ]
  },
  {
   "cell_type": "code",
   "execution_count": 4,
   "metadata": {},
   "outputs": [
    {
     "name": "stdout",
     "output_type": "stream",
     "text": [
      "<class 'pandas.core.frame.DataFrame'>\n",
      "RangeIndex: 2225 entries, 0 to 2224\n",
      "Data columns (total 5 columns):\n",
      " #   Column            Non-Null Count  Dtype \n",
      "---  ------            --------------  ----- \n",
      " 0   FoodCategory      2225 non-null   object\n",
      " 1   FoodItem          2225 non-null   object\n",
      " 2   per100grams       2225 non-null   object\n",
      " 3   Cals_per100grams  2225 non-null   object\n",
      " 4   KJ_per100grams    2225 non-null   object\n",
      "dtypes: object(5)\n",
      "memory usage: 87.0+ KB\n"
     ]
    }
   ],
   "source": [
    "df.info()"
   ]
  },
  {
   "cell_type": "code",
   "execution_count": 5,
   "metadata": {},
   "outputs": [
    {
     "data": {
      "text/html": [
       "<div>\n",
       "<style scoped>\n",
       "    .dataframe tbody tr th:only-of-type {\n",
       "        vertical-align: middle;\n",
       "    }\n",
       "\n",
       "    .dataframe tbody tr th {\n",
       "        vertical-align: top;\n",
       "    }\n",
       "\n",
       "    .dataframe thead th {\n",
       "        text-align: right;\n",
       "    }\n",
       "</style>\n",
       "<table border=\"1\" class=\"dataframe\">\n",
       "  <thead>\n",
       "    <tr style=\"text-align: right;\">\n",
       "      <th></th>\n",
       "      <th>FoodCategory</th>\n",
       "      <th>FoodItem</th>\n",
       "      <th>per100grams</th>\n",
       "      <th>Cals_per100grams</th>\n",
       "      <th>KJ_per100grams</th>\n",
       "    </tr>\n",
       "  </thead>\n",
       "  <tbody>\n",
       "    <tr>\n",
       "      <th>count</th>\n",
       "      <td>2225</td>\n",
       "      <td>2225</td>\n",
       "      <td>2225</td>\n",
       "      <td>2225</td>\n",
       "      <td>2225</td>\n",
       "    </tr>\n",
       "    <tr>\n",
       "      <th>unique</th>\n",
       "      <td>44</td>\n",
       "      <td>1993</td>\n",
       "      <td>2</td>\n",
       "      <td>524</td>\n",
       "      <td>524</td>\n",
       "    </tr>\n",
       "    <tr>\n",
       "      <th>top</th>\n",
       "      <td>BakingIngredients</td>\n",
       "      <td>Chicken Breast</td>\n",
       "      <td>100g</td>\n",
       "      <td>100 cal</td>\n",
       "      <td>420 kJ</td>\n",
       "    </tr>\n",
       "    <tr>\n",
       "      <th>freq</th>\n",
       "      <td>95</td>\n",
       "      <td>4</td>\n",
       "      <td>1802</td>\n",
       "      <td>26</td>\n",
       "      <td>26</td>\n",
       "    </tr>\n",
       "  </tbody>\n",
       "</table>\n",
       "</div>"
      ],
      "text/plain": [
       "             FoodCategory        FoodItem per100grams Cals_per100grams  \\\n",
       "count                2225            2225        2225             2225   \n",
       "unique                 44            1993           2              524   \n",
       "top     BakingIngredients  Chicken Breast        100g          100 cal   \n",
       "freq                   95               4        1802               26   \n",
       "\n",
       "       KJ_per100grams  \n",
       "count            2225  \n",
       "unique            524  \n",
       "top            420 kJ  \n",
       "freq               26  "
      ]
     },
     "execution_count": 5,
     "metadata": {},
     "output_type": "execute_result"
    }
   ],
   "source": [
    "df.describe()"
   ]
  },
  {
   "cell_type": "code",
   "execution_count": 7,
   "metadata": {},
   "outputs": [
    {
     "data": {
      "text/plain": [
       "Index(['FoodCategory', 'FoodItem', 'per100grams', 'Cals_per100grams',\n",
       "       'KJ_per100grams'],\n",
       "      dtype='object')"
      ]
     },
     "execution_count": 7,
     "metadata": {},
     "output_type": "execute_result"
    }
   ],
   "source": [
    "df.columns"
   ]
  },
  {
   "cell_type": "code",
   "execution_count": 12,
   "metadata": {},
   "outputs": [
    {
     "data": {
      "text/plain": [
       "FoodCategory\n",
       "BakingIngredients                95\n",
       "Cakes&Pies                       91\n",
       "Herbs&Spices                     90\n",
       "Beer                             85\n",
       "Candy&Sweets                     81\n",
       "Dishes&Meals                     78\n",
       "Pastries,Breads&Rolls            78\n",
       "Oatmeal,Muesli&Cereals           76\n",
       "FastFood                         72\n",
       "Vegetables                       63\n",
       "Legumes                          62\n",
       "Fish&Seafood                     60\n",
       "Sauces&Dressings                 54\n",
       "Fruits                           54\n",
       "Cheese                           53\n",
       "Soups                            52\n",
       "Non-AlcoholicDrinks&Beverages    51\n",
       "AlcoholicDrinks&Beverages        48\n",
       "Sausage                          47\n",
       "(Fruit)Juices                    46\n",
       "Meat                             46\n",
       "IceCream                         45\n",
       "Soda&SoftDrinks                  45\n",
       "CerealProducts                   44\n",
       "Pizza                            43\n",
       "Pasta&Noodles                    40\n",
       "Yogurt                           40\n",
       "Tropical&ExoticFruits            39\n",
       "Nuts&Seeds                       39\n",
       "Spreads                          39\n",
       "Pork                             39\n",
       "Wine                             39\n",
       "PotatoProducts                   39\n",
       "Beef&Veal                        39\n",
       "Venison&Game                     36\n",
       "ColdCuts&LunchMeat               35\n",
       "SlicedCheese                     34\n",
       "Offal&Giblets                    33\n",
       "Milk&DairyProducts               33\n",
       "Poultry&Fowl                     33\n",
       "VegetableOils                    33\n",
       "Oils&Fats                        30\n",
       "CannedFruit                      29\n",
       "CreamCheese                      17\n",
       "Name: count, dtype: int64"
      ]
     },
     "execution_count": 12,
     "metadata": {},
     "output_type": "execute_result"
    }
   ],
   "source": [
    "df[\"FoodCategory\"].value_counts()"
   ]
  },
  {
   "cell_type": "code",
   "execution_count": 13,
   "metadata": {},
   "outputs": [
    {
     "data": {
      "text/plain": [
       "per100grams\n",
       "100g     1802\n",
       "100ml     423\n",
       "Name: count, dtype: int64"
      ]
     },
     "execution_count": 13,
     "metadata": {},
     "output_type": "execute_result"
    }
   ],
   "source": [
    "df[\"per100grams\"].value_counts()"
   ]
  },
  {
   "cell_type": "markdown",
   "metadata": {},
   "source": [
    "# Data cleaning"
   ]
  },
  {
   "cell_type": "code",
   "execution_count": 20,
   "metadata": {},
   "outputs": [
    {
     "data": {
      "text/html": [
       "<div>\n",
       "<style scoped>\n",
       "    .dataframe tbody tr th:only-of-type {\n",
       "        vertical-align: middle;\n",
       "    }\n",
       "\n",
       "    .dataframe tbody tr th {\n",
       "        vertical-align: top;\n",
       "    }\n",
       "\n",
       "    .dataframe thead th {\n",
       "        text-align: right;\n",
       "    }\n",
       "</style>\n",
       "<table border=\"1\" class=\"dataframe\">\n",
       "  <thead>\n",
       "    <tr style=\"text-align: right;\">\n",
       "      <th></th>\n",
       "      <th>FoodCategory</th>\n",
       "      <th>FoodItem</th>\n",
       "      <th>per100</th>\n",
       "      <th>Cals_per100grams</th>\n",
       "      <th>KJ_per100grams</th>\n",
       "    </tr>\n",
       "  </thead>\n",
       "  <tbody>\n",
       "    <tr>\n",
       "      <th>0</th>\n",
       "      <td>CannedFruit</td>\n",
       "      <td>Applesauce</td>\n",
       "      <td>100g</td>\n",
       "      <td>62 cal</td>\n",
       "      <td>260 kJ</td>\n",
       "    </tr>\n",
       "    <tr>\n",
       "      <th>1</th>\n",
       "      <td>CannedFruit</td>\n",
       "      <td>Canned Apricots</td>\n",
       "      <td>100g</td>\n",
       "      <td>48 cal</td>\n",
       "      <td>202 kJ</td>\n",
       "    </tr>\n",
       "    <tr>\n",
       "      <th>2</th>\n",
       "      <td>CannedFruit</td>\n",
       "      <td>Canned Blackberries</td>\n",
       "      <td>100g</td>\n",
       "      <td>92 cal</td>\n",
       "      <td>386 kJ</td>\n",
       "    </tr>\n",
       "    <tr>\n",
       "      <th>3</th>\n",
       "      <td>CannedFruit</td>\n",
       "      <td>Canned Blueberries</td>\n",
       "      <td>100g</td>\n",
       "      <td>88 cal</td>\n",
       "      <td>370 kJ</td>\n",
       "    </tr>\n",
       "    <tr>\n",
       "      <th>4</th>\n",
       "      <td>CannedFruit</td>\n",
       "      <td>Canned Cherries</td>\n",
       "      <td>100g</td>\n",
       "      <td>54 cal</td>\n",
       "      <td>227 kJ</td>\n",
       "    </tr>\n",
       "  </tbody>\n",
       "</table>\n",
       "</div>"
      ],
      "text/plain": [
       "  FoodCategory             FoodItem per100 Cals_per100grams KJ_per100grams\n",
       "0  CannedFruit           Applesauce   100g           62 cal         260 kJ\n",
       "1  CannedFruit      Canned Apricots   100g           48 cal         202 kJ\n",
       "2  CannedFruit  Canned Blackberries   100g           92 cal         386 kJ\n",
       "3  CannedFruit   Canned Blueberries   100g           88 cal         370 kJ\n",
       "4  CannedFruit      Canned Cherries   100g           54 cal         227 kJ"
      ]
     },
     "execution_count": 20,
     "metadata": {},
     "output_type": "execute_result"
    }
   ],
   "source": [
    "df_cleaned_names = df.rename(\n",
    "    {\"calls_per100grams\": \"calories\", \"kj_per100grams\": \"kj\", \"per100grams\": \"per100\"},axis=1,\n",
    "    )\n",
    "df_cleaned_names.head() "
   ]
  },
  {
   "cell_type": "code",
   "execution_count": 29,
   "metadata": {},
   "outputs": [
    {
     "ename": "KeyError",
     "evalue": "'calories'",
     "output_type": "error",
     "traceback": [
      "\u001b[0;31m---------------------------------------------------------------------------\u001b[0m",
      "\u001b[0;31mKeyError\u001b[0m                                  Traceback (most recent call last)",
      "File \u001b[0;32m~/Documents/github/Data-platform-abdulrahman-fahmi-DE24/.venv/lib/python3.12/site-packages/pandas/core/indexes/base.py:3805\u001b[0m, in \u001b[0;36mIndex.get_loc\u001b[0;34m(self, key)\u001b[0m\n\u001b[1;32m   3804\u001b[0m \u001b[38;5;28;01mtry\u001b[39;00m:\n\u001b[0;32m-> 3805\u001b[0m     \u001b[38;5;28;01mreturn\u001b[39;00m \u001b[38;5;28;43mself\u001b[39;49m\u001b[38;5;241;43m.\u001b[39;49m\u001b[43m_engine\u001b[49m\u001b[38;5;241;43m.\u001b[39;49m\u001b[43mget_loc\u001b[49m\u001b[43m(\u001b[49m\u001b[43mcasted_key\u001b[49m\u001b[43m)\u001b[49m\n\u001b[1;32m   3806\u001b[0m \u001b[38;5;28;01mexcept\u001b[39;00m \u001b[38;5;167;01mKeyError\u001b[39;00m \u001b[38;5;28;01mas\u001b[39;00m err:\n",
      "File \u001b[0;32mindex.pyx:167\u001b[0m, in \u001b[0;36mpandas._libs.index.IndexEngine.get_loc\u001b[0;34m()\u001b[0m\n",
      "File \u001b[0;32mindex.pyx:196\u001b[0m, in \u001b[0;36mpandas._libs.index.IndexEngine.get_loc\u001b[0;34m()\u001b[0m\n",
      "File \u001b[0;32mpandas/_libs/hashtable_class_helper.pxi:7081\u001b[0m, in \u001b[0;36mpandas._libs.hashtable.PyObjectHashTable.get_item\u001b[0;34m()\u001b[0m\n",
      "File \u001b[0;32mpandas/_libs/hashtable_class_helper.pxi:7089\u001b[0m, in \u001b[0;36mpandas._libs.hashtable.PyObjectHashTable.get_item\u001b[0;34m()\u001b[0m\n",
      "\u001b[0;31mKeyError\u001b[0m: 'calories'",
      "\nThe above exception was the direct cause of the following exception:\n",
      "\u001b[0;31mKeyError\u001b[0m                                  Traceback (most recent call last)",
      "Cell \u001b[0;32mIn[29], line 1\u001b[0m\n\u001b[0;32m----> 1\u001b[0m \u001b[43mdf_cleaned_names\u001b[49m\u001b[43m[\u001b[49m\u001b[38;5;124;43m\"\u001b[39;49m\u001b[38;5;124;43mcalories\u001b[39;49m\u001b[38;5;124;43m\"\u001b[39;49m\u001b[43m]\u001b[49m\u001b[38;5;241m.\u001b[39mstr[:\u001b[38;5;241m-\u001b[39m\u001b[38;5;241m3\u001b[39m]\u001b[38;5;241m.\u001b[39mastype(\u001b[38;5;28mint\u001b[39m)\n\u001b[1;32m      2\u001b[0m df_cleaned_names\u001b[38;5;241m.\u001b[39mhead()\n",
      "File \u001b[0;32m~/Documents/github/Data-platform-abdulrahman-fahmi-DE24/.venv/lib/python3.12/site-packages/pandas/core/frame.py:4102\u001b[0m, in \u001b[0;36mDataFrame.__getitem__\u001b[0;34m(self, key)\u001b[0m\n\u001b[1;32m   4100\u001b[0m \u001b[38;5;28;01mif\u001b[39;00m \u001b[38;5;28mself\u001b[39m\u001b[38;5;241m.\u001b[39mcolumns\u001b[38;5;241m.\u001b[39mnlevels \u001b[38;5;241m>\u001b[39m \u001b[38;5;241m1\u001b[39m:\n\u001b[1;32m   4101\u001b[0m     \u001b[38;5;28;01mreturn\u001b[39;00m \u001b[38;5;28mself\u001b[39m\u001b[38;5;241m.\u001b[39m_getitem_multilevel(key)\n\u001b[0;32m-> 4102\u001b[0m indexer \u001b[38;5;241m=\u001b[39m \u001b[38;5;28;43mself\u001b[39;49m\u001b[38;5;241;43m.\u001b[39;49m\u001b[43mcolumns\u001b[49m\u001b[38;5;241;43m.\u001b[39;49m\u001b[43mget_loc\u001b[49m\u001b[43m(\u001b[49m\u001b[43mkey\u001b[49m\u001b[43m)\u001b[49m\n\u001b[1;32m   4103\u001b[0m \u001b[38;5;28;01mif\u001b[39;00m is_integer(indexer):\n\u001b[1;32m   4104\u001b[0m     indexer \u001b[38;5;241m=\u001b[39m [indexer]\n",
      "File \u001b[0;32m~/Documents/github/Data-platform-abdulrahman-fahmi-DE24/.venv/lib/python3.12/site-packages/pandas/core/indexes/base.py:3812\u001b[0m, in \u001b[0;36mIndex.get_loc\u001b[0;34m(self, key)\u001b[0m\n\u001b[1;32m   3807\u001b[0m     \u001b[38;5;28;01mif\u001b[39;00m \u001b[38;5;28misinstance\u001b[39m(casted_key, \u001b[38;5;28mslice\u001b[39m) \u001b[38;5;129;01mor\u001b[39;00m (\n\u001b[1;32m   3808\u001b[0m         \u001b[38;5;28misinstance\u001b[39m(casted_key, abc\u001b[38;5;241m.\u001b[39mIterable)\n\u001b[1;32m   3809\u001b[0m         \u001b[38;5;129;01mand\u001b[39;00m \u001b[38;5;28many\u001b[39m(\u001b[38;5;28misinstance\u001b[39m(x, \u001b[38;5;28mslice\u001b[39m) \u001b[38;5;28;01mfor\u001b[39;00m x \u001b[38;5;129;01min\u001b[39;00m casted_key)\n\u001b[1;32m   3810\u001b[0m     ):\n\u001b[1;32m   3811\u001b[0m         \u001b[38;5;28;01mraise\u001b[39;00m InvalidIndexError(key)\n\u001b[0;32m-> 3812\u001b[0m     \u001b[38;5;28;01mraise\u001b[39;00m \u001b[38;5;167;01mKeyError\u001b[39;00m(key) \u001b[38;5;28;01mfrom\u001b[39;00m\u001b[38;5;250m \u001b[39m\u001b[38;5;21;01merr\u001b[39;00m\n\u001b[1;32m   3813\u001b[0m \u001b[38;5;28;01mexcept\u001b[39;00m \u001b[38;5;167;01mTypeError\u001b[39;00m:\n\u001b[1;32m   3814\u001b[0m     \u001b[38;5;66;03m# If we have a listlike key, _check_indexing_error will raise\u001b[39;00m\n\u001b[1;32m   3815\u001b[0m     \u001b[38;5;66;03m#  InvalidIndexError. Otherwise we fall through and re-raise\u001b[39;00m\n\u001b[1;32m   3816\u001b[0m     \u001b[38;5;66;03m#  the TypeError.\u001b[39;00m\n\u001b[1;32m   3817\u001b[0m     \u001b[38;5;28mself\u001b[39m\u001b[38;5;241m.\u001b[39m_check_indexing_error(key)\n",
      "\u001b[0;31mKeyError\u001b[0m: 'calories'"
     ]
    }
   ],
   "source": [
    "df_cleaned_names[\"calories\"].str[:-3].astype(int)\n",
    "df_cleaned_names.head()"
   ]
  },
  {
   "cell_type": "code",
   "execution_count": 30,
   "metadata": {},
   "outputs": [
    {
     "name": "stdout",
     "output_type": "stream",
     "text": [
      "<class 'pandas.core.frame.DataFrame'>\n",
      "RangeIndex: 2225 entries, 0 to 2224\n",
      "Data columns (total 5 columns):\n",
      " #   Column            Non-Null Count  Dtype \n",
      "---  ------            --------------  ----- \n",
      " 0   FoodCategory      2225 non-null   object\n",
      " 1   FoodItem          2225 non-null   object\n",
      " 2   per100            2225 non-null   object\n",
      " 3   Cals_per100grams  2225 non-null   object\n",
      " 4   KJ_per100grams    2225 non-null   object\n",
      "dtypes: object(5)\n",
      "memory usage: 87.0+ KB\n"
     ]
    }
   ],
   "source": [
    "df_cleaned_names.info()"
   ]
  },
  {
   "cell_type": "code",
   "execution_count": 31,
   "metadata": {},
   "outputs": [
    {
     "data": {
      "text/plain": [
       "per100\n",
       "100g     1802\n",
       "100ml     423\n",
       "Name: count, dtype: int64"
      ]
     },
     "execution_count": 31,
     "metadata": {},
     "output_type": "execute_result"
    }
   ],
   "source": [
    "df_cleaned_names[\"per100\"].value_counts()"
   ]
  },
  {
   "cell_type": "code",
   "execution_count": 32,
   "metadata": {},
   "outputs": [
    {
     "data": {
      "text/plain": [
       "0       False\n",
       "1       False\n",
       "2       False\n",
       "3       False\n",
       "4       False\n",
       "        ...  \n",
       "2220    False\n",
       "2221    False\n",
       "2222    False\n",
       "2223    False\n",
       "2224    False\n",
       "Name: per100, Length: 2225, dtype: bool"
      ]
     },
     "execution_count": 32,
     "metadata": {},
     "output_type": "execute_result"
    }
   ],
   "source": [
    "df_cleaned_names[\"per100\"] == \"100ml\""
   ]
  },
  {
   "cell_type": "code",
   "execution_count": 33,
   "metadata": {},
   "outputs": [
    {
     "data": {
      "text/html": [
       "<div>\n",
       "<style scoped>\n",
       "    .dataframe tbody tr th:only-of-type {\n",
       "        vertical-align: middle;\n",
       "    }\n",
       "\n",
       "    .dataframe tbody tr th {\n",
       "        vertical-align: top;\n",
       "    }\n",
       "\n",
       "    .dataframe thead th {\n",
       "        text-align: right;\n",
       "    }\n",
       "</style>\n",
       "<table border=\"1\" class=\"dataframe\">\n",
       "  <thead>\n",
       "    <tr style=\"text-align: right;\">\n",
       "      <th></th>\n",
       "      <th>FoodCategory</th>\n",
       "      <th>FoodItem</th>\n",
       "      <th>per100</th>\n",
       "      <th>Cals_per100grams</th>\n",
       "      <th>KJ_per100grams</th>\n",
       "    </tr>\n",
       "  </thead>\n",
       "  <tbody>\n",
       "    <tr>\n",
       "      <th>409</th>\n",
       "      <td>Milk&amp;DairyProducts</td>\n",
       "      <td>Almond Milk</td>\n",
       "      <td>100ml</td>\n",
       "      <td>17 cal</td>\n",
       "      <td>71 kJ</td>\n",
       "    </tr>\n",
       "    <tr>\n",
       "      <th>410</th>\n",
       "      <td>Milk&amp;DairyProducts</td>\n",
       "      <td>Buttermilk</td>\n",
       "      <td>100ml</td>\n",
       "      <td>62 cal</td>\n",
       "      <td>260 kJ</td>\n",
       "    </tr>\n",
       "    <tr>\n",
       "      <th>412</th>\n",
       "      <td>Milk&amp;DairyProducts</td>\n",
       "      <td>Coconut Milk</td>\n",
       "      <td>100ml</td>\n",
       "      <td>230 cal</td>\n",
       "      <td>966 kJ</td>\n",
       "    </tr>\n",
       "    <tr>\n",
       "      <th>422</th>\n",
       "      <td>Milk&amp;DairyProducts</td>\n",
       "      <td>Hot Chocolate</td>\n",
       "      <td>100ml</td>\n",
       "      <td>89 cal</td>\n",
       "      <td>374 kJ</td>\n",
       "    </tr>\n",
       "    <tr>\n",
       "      <th>423</th>\n",
       "      <td>Milk&amp;DairyProducts</td>\n",
       "      <td>Kefir</td>\n",
       "      <td>100ml</td>\n",
       "      <td>55 cal</td>\n",
       "      <td>231 kJ</td>\n",
       "    </tr>\n",
       "    <tr>\n",
       "      <th>...</th>\n",
       "      <td>...</td>\n",
       "      <td>...</td>\n",
       "      <td>...</td>\n",
       "      <td>...</td>\n",
       "      <td>...</td>\n",
       "    </tr>\n",
       "    <tr>\n",
       "      <th>2173</th>\n",
       "      <td>Sauces&amp;Dressings</td>\n",
       "      <td>Soy Sauce</td>\n",
       "      <td>100ml</td>\n",
       "      <td>67 cal</td>\n",
       "      <td>281 kJ</td>\n",
       "    </tr>\n",
       "    <tr>\n",
       "      <th>2182</th>\n",
       "      <td>Sauces&amp;Dressings</td>\n",
       "      <td>Vinaigrette</td>\n",
       "      <td>100ml</td>\n",
       "      <td>120 cal</td>\n",
       "      <td>504 kJ</td>\n",
       "    </tr>\n",
       "    <tr>\n",
       "      <th>2183</th>\n",
       "      <td>Sauces&amp;Dressings</td>\n",
       "      <td>Worcestershire Sauce</td>\n",
       "      <td>100ml</td>\n",
       "      <td>78 cal</td>\n",
       "      <td>328 kJ</td>\n",
       "    </tr>\n",
       "    <tr>\n",
       "      <th>2184</th>\n",
       "      <td>Sauces&amp;Dressings</td>\n",
       "      <td>Yogurt Dressing</td>\n",
       "      <td>100ml</td>\n",
       "      <td>45 cal</td>\n",
       "      <td>189 kJ</td>\n",
       "    </tr>\n",
       "    <tr>\n",
       "      <th>2185</th>\n",
       "      <td>Sauces&amp;Dressings</td>\n",
       "      <td>Zesty Italian Dressing</td>\n",
       "      <td>100ml</td>\n",
       "      <td>267 cal</td>\n",
       "      <td>1121 kJ</td>\n",
       "    </tr>\n",
       "  </tbody>\n",
       "</table>\n",
       "<p>423 rows × 5 columns</p>\n",
       "</div>"
      ],
      "text/plain": [
       "            FoodCategory                FoodItem per100 Cals_per100grams  \\\n",
       "409   Milk&DairyProducts             Almond Milk  100ml           17 cal   \n",
       "410   Milk&DairyProducts              Buttermilk  100ml           62 cal   \n",
       "412   Milk&DairyProducts            Coconut Milk  100ml          230 cal   \n",
       "422   Milk&DairyProducts           Hot Chocolate  100ml           89 cal   \n",
       "423   Milk&DairyProducts                   Kefir  100ml           55 cal   \n",
       "...                  ...                     ...    ...              ...   \n",
       "2173    Sauces&Dressings               Soy Sauce  100ml           67 cal   \n",
       "2182    Sauces&Dressings             Vinaigrette  100ml          120 cal   \n",
       "2183    Sauces&Dressings    Worcestershire Sauce  100ml           78 cal   \n",
       "2184    Sauces&Dressings         Yogurt Dressing  100ml           45 cal   \n",
       "2185    Sauces&Dressings  Zesty Italian Dressing  100ml          267 cal   \n",
       "\n",
       "     KJ_per100grams  \n",
       "409           71 kJ  \n",
       "410          260 kJ  \n",
       "412          966 kJ  \n",
       "422          374 kJ  \n",
       "423          231 kJ  \n",
       "...             ...  \n",
       "2173         281 kJ  \n",
       "2182         504 kJ  \n",
       "2183         328 kJ  \n",
       "2184         189 kJ  \n",
       "2185        1121 kJ  \n",
       "\n",
       "[423 rows x 5 columns]"
      ]
     },
     "execution_count": 33,
     "metadata": {},
     "output_type": "execute_result"
    }
   ],
   "source": [
    "df_liquids = df_cleaned_names [df_cleaned_names[\"per100\"] == \"100ml\"]\n",
    "df_liquids.head()"
   ]
  },
  {
   "cell_type": "code",
   "execution_count": 34,
   "metadata": {},
   "outputs": [
    {
     "data": {
      "text/html": [
       "<div>\n",
       "<style scoped>\n",
       "    .dataframe tbody tr th:only-of-type {\n",
       "        vertical-align: middle;\n",
       "    }\n",
       "\n",
       "    .dataframe tbody tr th {\n",
       "        vertical-align: top;\n",
       "    }\n",
       "\n",
       "    .dataframe thead th {\n",
       "        text-align: right;\n",
       "    }\n",
       "</style>\n",
       "<table border=\"1\" class=\"dataframe\">\n",
       "  <thead>\n",
       "    <tr style=\"text-align: right;\">\n",
       "      <th></th>\n",
       "      <th>FoodCategory</th>\n",
       "      <th>FoodItem</th>\n",
       "      <th>per100</th>\n",
       "      <th>Cals_per100grams</th>\n",
       "      <th>KJ_per100grams</th>\n",
       "    </tr>\n",
       "  </thead>\n",
       "  <tbody>\n",
       "    <tr>\n",
       "      <th>0</th>\n",
       "      <td>CannedFruit</td>\n",
       "      <td>Applesauce</td>\n",
       "      <td>100g</td>\n",
       "      <td>62 cal</td>\n",
       "      <td>260 kJ</td>\n",
       "    </tr>\n",
       "    <tr>\n",
       "      <th>1</th>\n",
       "      <td>CannedFruit</td>\n",
       "      <td>Canned Apricots</td>\n",
       "      <td>100g</td>\n",
       "      <td>48 cal</td>\n",
       "      <td>202 kJ</td>\n",
       "    </tr>\n",
       "    <tr>\n",
       "      <th>2</th>\n",
       "      <td>CannedFruit</td>\n",
       "      <td>Canned Blackberries</td>\n",
       "      <td>100g</td>\n",
       "      <td>92 cal</td>\n",
       "      <td>386 kJ</td>\n",
       "    </tr>\n",
       "    <tr>\n",
       "      <th>3</th>\n",
       "      <td>CannedFruit</td>\n",
       "      <td>Canned Blueberries</td>\n",
       "      <td>100g</td>\n",
       "      <td>88 cal</td>\n",
       "      <td>370 kJ</td>\n",
       "    </tr>\n",
       "    <tr>\n",
       "      <th>4</th>\n",
       "      <td>CannedFruit</td>\n",
       "      <td>Canned Cherries</td>\n",
       "      <td>100g</td>\n",
       "      <td>54 cal</td>\n",
       "      <td>227 kJ</td>\n",
       "    </tr>\n",
       "    <tr>\n",
       "      <th>...</th>\n",
       "      <td>...</td>\n",
       "      <td>...</td>\n",
       "      <td>...</td>\n",
       "      <td>...</td>\n",
       "      <td>...</td>\n",
       "    </tr>\n",
       "    <tr>\n",
       "      <th>2220</th>\n",
       "      <td>Spreads</td>\n",
       "      <td>Sunflower Butter</td>\n",
       "      <td>100g</td>\n",
       "      <td>617 cal</td>\n",
       "      <td>2591 kJ</td>\n",
       "    </tr>\n",
       "    <tr>\n",
       "      <th>2221</th>\n",
       "      <td>Spreads</td>\n",
       "      <td>Tapenade</td>\n",
       "      <td>100g</td>\n",
       "      <td>233 cal</td>\n",
       "      <td>979 kJ</td>\n",
       "    </tr>\n",
       "    <tr>\n",
       "      <th>2222</th>\n",
       "      <td>Spreads</td>\n",
       "      <td>Unsalted Butter</td>\n",
       "      <td>100g</td>\n",
       "      <td>717 cal</td>\n",
       "      <td>3011 kJ</td>\n",
       "    </tr>\n",
       "    <tr>\n",
       "      <th>2223</th>\n",
       "      <td>Spreads</td>\n",
       "      <td>Vegemite</td>\n",
       "      <td>100g</td>\n",
       "      <td>180 cal</td>\n",
       "      <td>756 kJ</td>\n",
       "    </tr>\n",
       "    <tr>\n",
       "      <th>2224</th>\n",
       "      <td>Spreads</td>\n",
       "      <td>Wild Honey</td>\n",
       "      <td>100g</td>\n",
       "      <td>286 cal</td>\n",
       "      <td>1201 kJ</td>\n",
       "    </tr>\n",
       "  </tbody>\n",
       "</table>\n",
       "<p>1802 rows × 5 columns</p>\n",
       "</div>"
      ],
      "text/plain": [
       "     FoodCategory             FoodItem per100 Cals_per100grams KJ_per100grams\n",
       "0     CannedFruit           Applesauce   100g           62 cal         260 kJ\n",
       "1     CannedFruit      Canned Apricots   100g           48 cal         202 kJ\n",
       "2     CannedFruit  Canned Blackberries   100g           92 cal         386 kJ\n",
       "3     CannedFruit   Canned Blueberries   100g           88 cal         370 kJ\n",
       "4     CannedFruit      Canned Cherries   100g           54 cal         227 kJ\n",
       "...           ...                  ...    ...              ...            ...\n",
       "2220      Spreads     Sunflower Butter   100g          617 cal        2591 kJ\n",
       "2221      Spreads             Tapenade   100g          233 cal         979 kJ\n",
       "2222      Spreads      Unsalted Butter   100g          717 cal        3011 kJ\n",
       "2223      Spreads             Vegemite   100g          180 cal         756 kJ\n",
       "2224      Spreads           Wild Honey   100g          286 cal        1201 kJ\n",
       "\n",
       "[1802 rows x 5 columns]"
      ]
     },
     "execution_count": 34,
     "metadata": {},
     "output_type": "execute_result"
    }
   ],
   "source": [
    "df_solids = df_cleaned_names.query(\"per100 == '100g'\")\n",
    "df_solids.head()"
   ]
  },
  {
   "cell_type": "markdown",
   "metadata": {},
   "source": [
    "## Find top 5 categories of highest calories"
   ]
  },
  {
   "cell_type": "code",
   "execution_count": 36,
   "metadata": {},
   "outputs": [
    {
     "ename": "NameError",
     "evalue": "name 'df_solids' is not defined",
     "output_type": "error",
     "traceback": [
      "\u001b[0;31m---------------------------------------------------------------------------\u001b[0m",
      "\u001b[0;31mNameError\u001b[0m                                 Traceback (most recent call last)",
      "Cell \u001b[0;32mIn[36], line 1\u001b[0m\n\u001b[0;32m----> 1\u001b[0m df_solids_sorted \u001b[38;5;241m=\u001b[39m \u001b[43mdf_solids\u001b[49m\u001b[38;5;241m.\u001b[39msort_values(by\u001b[38;5;241m=\u001b[39m\u001b[38;5;124m\"\u001b[39m\u001b[38;5;124mcalories\u001b[39m\u001b[38;5;124m\"\u001b[39m, ascending\u001b[38;5;241m=\u001b[39m\u001b[38;5;28;01mFalse\u001b[39;00m)\n\u001b[1;32m      2\u001b[0m df_solids_top5 \u001b[38;5;241m=\u001b[39m df_solids_sorted\u001b[38;5;241m.\u001b[39miloc[:\u001b[38;5;241m5\u001b[39m]\n\u001b[1;32m      3\u001b[0m df_solids_top5\n",
      "\u001b[0;31mNameError\u001b[0m: name 'df_solids' is not defined"
     ]
    }
   ],
   "source": [
    "df_solids_sorted = df_solids.sort_values(by=\"calories\", ascending=False)\n",
    "df_solids_top5 = df_solids_sorted.iloc[:5]\n",
    "df_solids_top5"
   ]
  },
  {
   "cell_type": "code",
   "execution_count": 40,
   "metadata": {},
   "outputs": [
    {
     "ename": "NameError",
     "evalue": "name 'df_liquids' is not defined",
     "output_type": "error",
     "traceback": [
      "\u001b[0;31m---------------------------------------------------------------------------\u001b[0m",
      "\u001b[0;31mNameError\u001b[0m                                 Traceback (most recent call last)",
      "Cell \u001b[0;32mIn[40], line 1\u001b[0m\n\u001b[0;32m----> 1\u001b[0m df_liquids_top5 \u001b[38;5;241m=\u001b[39m \u001b[43mdf_liquids\u001b[49m\u001b[38;5;241m.\u001b[39msort_values(by\u001b[38;5;241m=\u001b[39m\u001b[38;5;124m\"\u001b[39m\u001b[38;5;124mcalories\u001b[39m\u001b[38;5;124m\"\u001b[39m, ascending\u001b[38;5;241m=\u001b[39m\u001b[38;5;28;01mFalse\u001b[39;00m)\u001b[38;5;241m.\u001b[39mhead()\n\u001b[1;32m      2\u001b[0m df_liquids_top5\n",
      "\u001b[0;31mNameError\u001b[0m: name 'df_liquids' is not defined"
     ]
    }
   ],
   "source": [
    "df_liquids_top5 = df_liquids.sort_values(by=\"calories\", ascending=False).head()\n",
    "df_liquids_top5"
   ]
  },
  {
   "cell_type": "code",
   "execution_count": 43,
   "metadata": {},
   "outputs": [
    {
     "ename": "KeyError",
     "evalue": "'foodcategories'",
     "output_type": "error",
     "traceback": [
      "\u001b[0;31m---------------------------------------------------------------------------\u001b[0m",
      "\u001b[0;31mKeyError\u001b[0m                                  Traceback (most recent call last)",
      "Cell \u001b[0;32mIn[43], line 1\u001b[0m\n\u001b[0;32m----> 1\u001b[0m df_top5_categories \u001b[38;5;241m=\u001b[39m \u001b[43mdf_cleaned_names\u001b[49m\u001b[38;5;241;43m.\u001b[39;49m\u001b[43mgroupby\u001b[49m\u001b[43m(\u001b[49m\u001b[38;5;124;43m\"\u001b[39;49m\u001b[38;5;124;43mfoodcategories\u001b[39;49m\u001b[38;5;124;43m\"\u001b[39;49m\u001b[43m)\u001b[49m[\u001b[38;5;124m\"\u001b[39m\u001b[38;5;124mcalories\u001b[39m\u001b[38;5;124m\"\u001b[39m]\u001b[38;5;241m.\u001b[39mmedian()\u001b[38;5;241m.\u001b[39msort_values(ascending\u001b[38;5;241m=\u001b[39m\u001b[38;5;28;01mFalse\u001b[39;00m)\u001b[38;5;241m.\u001b[39mreset_index()\u001b[38;5;241m.\u001b[39mhead()\n\u001b[1;32m      2\u001b[0m df_top5_categories\n",
      "File \u001b[0;32m~/Documents/github/Data-platform-abdulrahman-fahmi-DE24/.venv/lib/python3.12/site-packages/pandas/core/frame.py:9183\u001b[0m, in \u001b[0;36mDataFrame.groupby\u001b[0;34m(self, by, axis, level, as_index, sort, group_keys, observed, dropna)\u001b[0m\n\u001b[1;32m   9180\u001b[0m \u001b[38;5;28;01mif\u001b[39;00m level \u001b[38;5;129;01mis\u001b[39;00m \u001b[38;5;28;01mNone\u001b[39;00m \u001b[38;5;129;01mand\u001b[39;00m by \u001b[38;5;129;01mis\u001b[39;00m \u001b[38;5;28;01mNone\u001b[39;00m:\n\u001b[1;32m   9181\u001b[0m     \u001b[38;5;28;01mraise\u001b[39;00m \u001b[38;5;167;01mTypeError\u001b[39;00m(\u001b[38;5;124m\"\u001b[39m\u001b[38;5;124mYou have to supply one of \u001b[39m\u001b[38;5;124m'\u001b[39m\u001b[38;5;124mby\u001b[39m\u001b[38;5;124m'\u001b[39m\u001b[38;5;124m and \u001b[39m\u001b[38;5;124m'\u001b[39m\u001b[38;5;124mlevel\u001b[39m\u001b[38;5;124m'\u001b[39m\u001b[38;5;124m\"\u001b[39m)\n\u001b[0;32m-> 9183\u001b[0m \u001b[38;5;28;01mreturn\u001b[39;00m \u001b[43mDataFrameGroupBy\u001b[49m\u001b[43m(\u001b[49m\n\u001b[1;32m   9184\u001b[0m \u001b[43m    \u001b[49m\u001b[43mobj\u001b[49m\u001b[38;5;241;43m=\u001b[39;49m\u001b[38;5;28;43mself\u001b[39;49m\u001b[43m,\u001b[49m\n\u001b[1;32m   9185\u001b[0m \u001b[43m    \u001b[49m\u001b[43mkeys\u001b[49m\u001b[38;5;241;43m=\u001b[39;49m\u001b[43mby\u001b[49m\u001b[43m,\u001b[49m\n\u001b[1;32m   9186\u001b[0m \u001b[43m    \u001b[49m\u001b[43maxis\u001b[49m\u001b[38;5;241;43m=\u001b[39;49m\u001b[43maxis\u001b[49m\u001b[43m,\u001b[49m\n\u001b[1;32m   9187\u001b[0m \u001b[43m    \u001b[49m\u001b[43mlevel\u001b[49m\u001b[38;5;241;43m=\u001b[39;49m\u001b[43mlevel\u001b[49m\u001b[43m,\u001b[49m\n\u001b[1;32m   9188\u001b[0m \u001b[43m    \u001b[49m\u001b[43mas_index\u001b[49m\u001b[38;5;241;43m=\u001b[39;49m\u001b[43mas_index\u001b[49m\u001b[43m,\u001b[49m\n\u001b[1;32m   9189\u001b[0m \u001b[43m    \u001b[49m\u001b[43msort\u001b[49m\u001b[38;5;241;43m=\u001b[39;49m\u001b[43msort\u001b[49m\u001b[43m,\u001b[49m\n\u001b[1;32m   9190\u001b[0m \u001b[43m    \u001b[49m\u001b[43mgroup_keys\u001b[49m\u001b[38;5;241;43m=\u001b[39;49m\u001b[43mgroup_keys\u001b[49m\u001b[43m,\u001b[49m\n\u001b[1;32m   9191\u001b[0m \u001b[43m    \u001b[49m\u001b[43mobserved\u001b[49m\u001b[38;5;241;43m=\u001b[39;49m\u001b[43mobserved\u001b[49m\u001b[43m,\u001b[49m\n\u001b[1;32m   9192\u001b[0m \u001b[43m    \u001b[49m\u001b[43mdropna\u001b[49m\u001b[38;5;241;43m=\u001b[39;49m\u001b[43mdropna\u001b[49m\u001b[43m,\u001b[49m\n\u001b[1;32m   9193\u001b[0m \u001b[43m\u001b[49m\u001b[43m)\u001b[49m\n",
      "File \u001b[0;32m~/Documents/github/Data-platform-abdulrahman-fahmi-DE24/.venv/lib/python3.12/site-packages/pandas/core/groupby/groupby.py:1329\u001b[0m, in \u001b[0;36mGroupBy.__init__\u001b[0;34m(self, obj, keys, axis, level, grouper, exclusions, selection, as_index, sort, group_keys, observed, dropna)\u001b[0m\n\u001b[1;32m   1326\u001b[0m \u001b[38;5;28mself\u001b[39m\u001b[38;5;241m.\u001b[39mdropna \u001b[38;5;241m=\u001b[39m dropna\n\u001b[1;32m   1328\u001b[0m \u001b[38;5;28;01mif\u001b[39;00m grouper \u001b[38;5;129;01mis\u001b[39;00m \u001b[38;5;28;01mNone\u001b[39;00m:\n\u001b[0;32m-> 1329\u001b[0m     grouper, exclusions, obj \u001b[38;5;241m=\u001b[39m \u001b[43mget_grouper\u001b[49m\u001b[43m(\u001b[49m\n\u001b[1;32m   1330\u001b[0m \u001b[43m        \u001b[49m\u001b[43mobj\u001b[49m\u001b[43m,\u001b[49m\n\u001b[1;32m   1331\u001b[0m \u001b[43m        \u001b[49m\u001b[43mkeys\u001b[49m\u001b[43m,\u001b[49m\n\u001b[1;32m   1332\u001b[0m \u001b[43m        \u001b[49m\u001b[43maxis\u001b[49m\u001b[38;5;241;43m=\u001b[39;49m\u001b[43maxis\u001b[49m\u001b[43m,\u001b[49m\n\u001b[1;32m   1333\u001b[0m \u001b[43m        \u001b[49m\u001b[43mlevel\u001b[49m\u001b[38;5;241;43m=\u001b[39;49m\u001b[43mlevel\u001b[49m\u001b[43m,\u001b[49m\n\u001b[1;32m   1334\u001b[0m \u001b[43m        \u001b[49m\u001b[43msort\u001b[49m\u001b[38;5;241;43m=\u001b[39;49m\u001b[43msort\u001b[49m\u001b[43m,\u001b[49m\n\u001b[1;32m   1335\u001b[0m \u001b[43m        \u001b[49m\u001b[43mobserved\u001b[49m\u001b[38;5;241;43m=\u001b[39;49m\u001b[38;5;28;43;01mFalse\u001b[39;49;00m\u001b[43m \u001b[49m\u001b[38;5;28;43;01mif\u001b[39;49;00m\u001b[43m \u001b[49m\u001b[43mobserved\u001b[49m\u001b[43m \u001b[49m\u001b[38;5;129;43;01mis\u001b[39;49;00m\u001b[43m \u001b[49m\u001b[43mlib\u001b[49m\u001b[38;5;241;43m.\u001b[39;49m\u001b[43mno_default\u001b[49m\u001b[43m \u001b[49m\u001b[38;5;28;43;01melse\u001b[39;49;00m\u001b[43m \u001b[49m\u001b[43mobserved\u001b[49m\u001b[43m,\u001b[49m\n\u001b[1;32m   1336\u001b[0m \u001b[43m        \u001b[49m\u001b[43mdropna\u001b[49m\u001b[38;5;241;43m=\u001b[39;49m\u001b[38;5;28;43mself\u001b[39;49m\u001b[38;5;241;43m.\u001b[39;49m\u001b[43mdropna\u001b[49m\u001b[43m,\u001b[49m\n\u001b[1;32m   1337\u001b[0m \u001b[43m    \u001b[49m\u001b[43m)\u001b[49m\n\u001b[1;32m   1339\u001b[0m \u001b[38;5;28;01mif\u001b[39;00m observed \u001b[38;5;129;01mis\u001b[39;00m lib\u001b[38;5;241m.\u001b[39mno_default:\n\u001b[1;32m   1340\u001b[0m     \u001b[38;5;28;01mif\u001b[39;00m \u001b[38;5;28many\u001b[39m(ping\u001b[38;5;241m.\u001b[39m_passed_categorical \u001b[38;5;28;01mfor\u001b[39;00m ping \u001b[38;5;129;01min\u001b[39;00m grouper\u001b[38;5;241m.\u001b[39mgroupings):\n",
      "File \u001b[0;32m~/Documents/github/Data-platform-abdulrahman-fahmi-DE24/.venv/lib/python3.12/site-packages/pandas/core/groupby/grouper.py:1043\u001b[0m, in \u001b[0;36mget_grouper\u001b[0;34m(obj, key, axis, level, sort, observed, validate, dropna)\u001b[0m\n\u001b[1;32m   1041\u001b[0m         in_axis, level, gpr \u001b[38;5;241m=\u001b[39m \u001b[38;5;28;01mFalse\u001b[39;00m, gpr, \u001b[38;5;28;01mNone\u001b[39;00m\n\u001b[1;32m   1042\u001b[0m     \u001b[38;5;28;01melse\u001b[39;00m:\n\u001b[0;32m-> 1043\u001b[0m         \u001b[38;5;28;01mraise\u001b[39;00m \u001b[38;5;167;01mKeyError\u001b[39;00m(gpr)\n\u001b[1;32m   1044\u001b[0m \u001b[38;5;28;01melif\u001b[39;00m \u001b[38;5;28misinstance\u001b[39m(gpr, Grouper) \u001b[38;5;129;01mand\u001b[39;00m gpr\u001b[38;5;241m.\u001b[39mkey \u001b[38;5;129;01mis\u001b[39;00m \u001b[38;5;129;01mnot\u001b[39;00m \u001b[38;5;28;01mNone\u001b[39;00m:\n\u001b[1;32m   1045\u001b[0m     \u001b[38;5;66;03m# Add key to exclusions\u001b[39;00m\n\u001b[1;32m   1046\u001b[0m     exclusions\u001b[38;5;241m.\u001b[39madd(gpr\u001b[38;5;241m.\u001b[39mkey)\n",
      "\u001b[0;31mKeyError\u001b[0m: 'foodcategories'"
     ]
    }
   ],
   "source": [
    "df_top5_categories = df_cleaned_names.groupby(\"foodcategories\")[\"calories\"].median().sort_values(ascending=False).reset_index().head()\n",
    "df_top5_categories"
   ]
  }
 ],
 "metadata": {
  "kernelspec": {
   "display_name": ".venv",
   "language": "python",
   "name": "python3"
  },
  "language_info": {
   "codemirror_mode": {
    "name": "ipython",
    "version": 3
   },
   "file_extension": ".py",
   "mimetype": "text/x-python",
   "name": "python",
   "nbconvert_exporter": "python",
   "pygments_lexer": "ipython3",
   "version": "3.12.5"
  }
 },
 "nbformat": 4,
 "nbformat_minor": 2
}
