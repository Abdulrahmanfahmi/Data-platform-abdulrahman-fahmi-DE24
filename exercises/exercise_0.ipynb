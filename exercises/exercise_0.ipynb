{
 "cells": [
  {
   "cell_type": "markdown",
   "metadata": {},
   "source": [
    "# Solving exercises \n",
    "0.user input for ETL parameters"
   ]
  },
  {
   "cell_type": "code",
   "execution_count": 1,
   "metadata": {},
   "outputs": [
    {
     "name": "stdout",
     "output_type": "stream",
     "text": [
      "source: /Users/abdulrahmanfahmi/Documents/github/Data-platform-abdulrahman-fahmi-DE24/code_alongs/input_data.csv\n",
      "destination: /Users/abdulrahmanfahmi/Documents/github/Data-platform-abdulrahman-fahmi-DE24/code_alongs/output_data.csv\n"
     ]
    }
   ],
   "source": [
    "source_path = input(\"Enter the source path\")\n",
    "destination_path = input(\"Enter the destination path\")\n",
    "\n",
    "# /Users/abdulrahmanfahmi/Documents/github/Data-platform-abdulrahman-fahmi-DE24/code_alongs/input_data.csv\n",
    "\n",
    "# /Users/abdulrahmanfahmi/Documents/github/Data-platform-abdulrahman-fahmi-DE24/code_alongs/output_data.csv\n",
    "\n",
    "print(f\"source: {source_path}\")\n",
    "print(f\"destination: {destination_path}\")"
   ]
  },
  {
   "cell_type": "markdown",
   "metadata": {},
   "source": [
    "# 1.schema validation"
   ]
  },
  {
   "cell_type": "markdown",
   "metadata": {},
   "source": [
    "a)"
   ]
  },
  {
   "cell_type": "code",
   "execution_count": 3,
   "metadata": {},
   "outputs": [
    {
     "data": {
      "text/plain": [
       "({'id': 101, 'name': 'Erika', 'is_active': True, 'age': 43}, dict)"
      ]
     },
     "execution_count": 3,
     "metadata": {},
     "output_type": "execute_result"
    }
   ],
   "source": [
    "record = dict(id=101, name=\"Erika\", is_active=True, age=43)\n",
    "record, type(record) "
   ]
  },
  {
   "cell_type": "markdown",
   "metadata": {},
   "source": [
    "**b)**"
   ]
  },
  {
   "cell_type": "code",
   "execution_count": 5,
   "metadata": {},
   "outputs": [
    {
     "data": {
      "text/plain": [
       "dict_keys(['id', 'name', 'is_active', 'age'])"
      ]
     },
     "execution_count": 5,
     "metadata": {},
     "output_type": "execute_result"
    }
   ],
   "source": [
    "schema = {\"id\": int, \"name\": str, \"is_active\":bool, \"age\": int}\n",
    "schema.keys()"
   ]
  },
  {
   "cell_type": "code",
   "execution_count": 8,
   "metadata": {},
   "outputs": [
    {
     "data": {
      "text/plain": [
       "(101, bool, bool, int)"
      ]
     },
     "execution_count": 8,
     "metadata": {},
     "output_type": "execute_result"
    }
   ],
   "source": [
    "record[\"id\"], schema[\"is_active\"], schema[\"is_active\"], schema [\"age\"]"
   ]
  },
  {
   "cell_type": "code",
   "execution_count": 12,
   "metadata": {},
   "outputs": [
    {
     "data": {
      "text/plain": [
       "(bool, bool)"
      ]
     },
     "execution_count": 12,
     "metadata": {},
     "output_type": "execute_result"
    }
   ],
   "source": [
    "type(record[\"id\"] == schema[\"id\"]),type(record[\"id\"] == schema[\"is_active\"]) "
   ]
  },
  {
   "cell_type": "code",
   "execution_count": 13,
   "metadata": {},
   "outputs": [
    {
     "data": {
      "text/plain": [
       "False"
      ]
     },
     "execution_count": 13,
     "metadata": {},
     "output_type": "execute_result"
    }
   ],
   "source": [
    "isinstance(5, str)"
   ]
  },
  {
   "cell_type": "code",
   "execution_count": 18,
   "metadata": {},
   "outputs": [
    {
     "name": "stdout",
     "output_type": "stream",
     "text": [
      "id\n",
      "name\n",
      "is_active\n",
      "age\n"
     ]
    }
   ],
   "source": [
    "for key in schema:\n",
    "    print(key)"
   ]
  },
  {
   "cell_type": "code",
   "execution_count": 19,
   "metadata": {},
   "outputs": [
    {
     "name": "stdout",
     "output_type": "stream",
     "text": [
      "101 <class 'int'>\n",
      "Erika <class 'str'>\n",
      "True <class 'bool'>\n",
      "43 <class 'int'>\n"
     ]
    }
   ],
   "source": [
    "for key in schema:\n",
    "    print(record[key], schema[key])"
   ]
  },
  {
   "cell_type": "markdown",
   "metadata": {},
   "source": [
    "**solution with for loop**"
   ]
  },
  {
   "cell_type": "code",
   "execution_count": 25,
   "metadata": {},
   "outputs": [
    {
     "name": "stdout",
     "output_type": "stream",
     "text": [
      "101 <class 'int'>\n",
      "Erika <class 'str'>\n",
      "True <class 'bool'>\n",
      "43 <class 'int'>\n"
     ]
    }
   ],
   "source": [
    "validation_list = []\n",
    "for key, data_type  in schema.items():\n",
    "    # print(record[key], data_type)\n",
    "    \n",
    "    validation_list.append (isinstance {record[key], data_type})\n",
    "    \n",
    "    all(validation_list)"
   ]
  },
  {
   "cell_type": "code",
   "execution_count": null,
   "metadata": {},
   "outputs": [],
   "source": [
    "all([True, False])"
   ]
  },
  {
   "cell_type": "code",
   "execution_count": null,
   "metadata": {},
   "outputs": [],
   "source": [
    "[key for key in schema]"
   ]
  },
  {
   "cell_type": "markdown",
   "metadata": {},
   "source": [
    "**alternative with list comprehension**"
   ]
  },
  {
   "cell_type": "code",
   "execution_count": 26,
   "metadata": {},
   "outputs": [
    {
     "data": {
      "text/plain": [
       "True"
      ]
     },
     "execution_count": 26,
     "metadata": {},
     "output_type": "execute_result"
    }
   ],
   "source": [
    "all((isinstance(record[key], data_type) for key, data_type in schema.items()))"
   ]
  },
  {
   "cell_type": "markdown",
   "metadata": {},
   "source": [
    "c-e user to do"
   ]
  },
  {
   "cell_type": "markdown",
   "metadata": {},
   "source": [
    "## 2.Data quality check "
   ]
  },
  {
   "cell_type": "code",
   "execution_count": 29,
   "metadata": {},
   "outputs": [
    {
     "data": {
      "text/plain": [
       "[0, 1, 2, 3, 4, 5, 6, 7, 8, 9]"
      ]
     },
     "execution_count": 29,
     "metadata": {},
     "output_type": "execute_result"
    }
   ],
   "source": [
    "exampel_list = list(range(10))\n",
    "exampel_list_none = list(range(9)) + [None]\n",
    "exampel_list_large = list(range(2910))\n",
    "exampel_list"
   ]
  },
  {
   "cell_type": "code",
   "execution_count": 30,
   "metadata": {},
   "outputs": [
    {
     "data": {
      "text/plain": [
       "[0, 1, 2, 3, 4, 5, 6, 7, 8, None]"
      ]
     },
     "execution_count": 30,
     "metadata": {},
     "output_type": "execute_result"
    }
   ],
   "source": [
    "exampel_list_none"
   ]
  },
  {
   "cell_type": "code",
   "execution_count": 31,
   "metadata": {},
   "outputs": [
    {
     "data": {
      "text/plain": [
       "True"
      ]
     },
     "execution_count": 31,
     "metadata": {},
     "output_type": "execute_result"
    }
   ],
   "source": [
    "len(exampel_list) == 10"
   ]
  },
  {
   "cell_type": "code",
   "execution_count": 33,
   "metadata": {},
   "outputs": [
    {
     "data": {
      "text/plain": [
       "False"
      ]
     },
     "execution_count": 33,
     "metadata": {},
     "output_type": "execute_result"
    }
   ],
   "source": [
    "None in exampel_list"
   ]
  },
  {
   "cell_type": "code",
   "execution_count": 32,
   "metadata": {},
   "outputs": [
    {
     "data": {
      "text/plain": [
       "(False, True)"
      ]
     },
     "execution_count": 32,
     "metadata": {},
     "output_type": "execute_result"
    }
   ],
   "source": [
    "None in exampel_list, None in exampel_list_none"
   ]
  },
  {
   "cell_type": "code",
   "execution_count": 34,
   "metadata": {},
   "outputs": [],
   "source": [
    "if len(exampel_list) == 10 and None in exampel_list:\n",
    " print(\"woho\")\n",
    " \n",
    " if len(exampel_list_none) == 10 and None in exampel_list_none:\n",
    "     print(\"woho\")\n",
    " \n",
    " if len(exampel_list_large) == 10 and None in exampel_list_large:\n",
    "    print(\"woho\")"
   ]
  },
  {
   "cell_type": "code",
   "execution_count": 36,
   "metadata": {},
   "outputs": [],
   "source": [
    "def quality_check(list_):\n",
    "  if len(exampel_list) != 10 and None in exampel_list:\n",
    "    raise ValueError(\"\"\"your list must 10 elements and not contain None. length of your list length was {len(list_)}. None in list: {None in list_}\"\"\"\n",
    "    )\n",
    "    \n",
    "    \n",
    "try:\n",
    "    quality_check(exampel_list_none)\n",
    "except ValueError as err:\n",
    "    print(err)"
   ]
  },
  {
   "cell_type": "code",
   "execution_count": 37,
   "metadata": {},
   "outputs": [],
   "source": [
    "try:\n",
    "    quality_check(exampel_list_large)\n",
    "except ValueError as err:\n",
    "    print(err)"
   ]
  }
 ],
 "metadata": {
  "kernelspec": {
   "display_name": ".venv",
   "language": "python",
   "name": "python3"
  },
  "language_info": {
   "codemirror_mode": {
    "name": "ipython",
    "version": 3
   },
   "file_extension": ".py",
   "mimetype": "text/x-python",
   "name": "python",
   "nbconvert_exporter": "python",
   "pygments_lexer": "ipython3",
   "version": "3.12.5"
  }
 },
 "nbformat": 4,
 "nbformat_minor": 2
}
